{
 "cells": [
  {
   "cell_type": "markdown",
   "metadata": {},
   "source": [
    "## Tools"
   ]
  },
  {
   "cell_type": "markdown",
   "metadata": {},
   "source": [
    "Reading atomic configuraion and caculating the potential energy and forces using NEP. The results are then plotted and the Root Mean Square Error (RMSE) is computed."
   ]
  },
  {
   "cell_type": "code",
   "execution_count": null,
   "metadata": {},
   "outputs": [],
   "source": [
    "from wizard.io import read_xyz, plot_e, plot_f\n",
    "from pynep.calculate import NEP\n",
    "import numpy as np\n",
    "\n",
    "frames = read_xyz('train.xyz') \n",
    "print(len(frames))\n",
    "calc = NEP('nep.txt')\n",
    "ed, en, fd, fn = [], [], [], []\n",
    "for atoms in frames:\n",
    "    atoms.calc = calc\n",
    "    en.append(atoms.get_potential_energy() / len(atoms))\n",
    "    ed.append(atoms.info['energy'] / len(atoms))\n",
    "    fn.append(atoms.get_forces())\n",
    "    fd.append(atoms.info['forces'])\n",
    "ed = np.array(ed)\n",
    "en = np.array(en)\n",
    "fd = np.concatenate(fd)\n",
    "fn = np.concatenate(fn)\n",
    "plot_e(ed, en)\n",
    "plot_f(fd, fn)\n",
    "e_rmse = np.sqrt(np.mean((ed-en)**2)) \n",
    "f_rmse = np.sqrt(np.mean((fd-fn)**2))\n",
    "print(e_rmse)\n",
    "print(f_rmse)"
   ]
  }
 ],
 "metadata": {
  "language_info": {
   "name": "python"
  }
 },
 "nbformat": 4,
 "nbformat_minor": 2
}
