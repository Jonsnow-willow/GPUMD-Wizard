{
 "cells": [
  {
   "cell_type": "markdown",
   "metadata": {},
   "source": [
    "## Tools"
   ]
  },
  {
   "cell_type": "markdown",
   "metadata": {},
   "source": [
    "Reading atomic configuraion and caculating the potential energy and forces using NEP. The results are then plotted and the Root Mean Square Error (RMSE) is computed."
   ]
  },
  {
   "cell_type": "code",
   "execution_count": null,
   "metadata": {},
   "outputs": [],
   "source": [
    "from wizard.io import read_xyz, plot_e, plot_f\n",
    "from pynep.calculate import NEP\n",
    "import numpy as np\n",
    "\n",
    "frames = read_xyz('train.xyz') \n",
    "print(len(frames))\n",
    "calc = NEP('nep.txt')\n",
    "ed, en, fd, fn = [], [], [], []\n",
    "for atoms in frames:\n",
    "    atoms.calc = calc\n",
    "    en.append(atoms.get_potential_energy() / len(atoms))\n",
    "    ed.append(atoms.info['energy'] / len(atoms))\n",
    "    fn.append(atoms.get_forces())\n",
    "    fd.append(atoms.info['forces'])\n",
    "ed = np.array(ed)\n",
    "en = np.array(en)\n",
    "fd = np.concatenate(fd)\n",
    "fn = np.concatenate(fn)\n",
    "plot_e(ed, en)\n",
    "plot_f(fd, fn)\n",
    "e_rmse = np.sqrt(np.mean((ed-en)**2)) \n",
    "f_rmse = np.sqrt(np.mean((fd-fn)**2))\n",
    "print(e_rmse)\n",
    "print(f_rmse)"
   ]
  },
  {
   "cell_type": "code",
   "execution_count": null,
   "metadata": {},
   "outputs": [],
   "source": [
    "\"\"\"\n",
    "# -----------------------------------------------------------------------------\n",
    "# The following code is sourced from\n",
    "# pynep:\n",
    "# https://github.com/bigd4/PyNEP\n",
    "#\n",
    "# Copyright (c) 2022 wang laosi, licensed under MIT License\n",
    "# -----------------------------------------------------------------------------\n",
    "\"\"\"\n",
    "from pynep.calculate import NEP\n",
    "from pynep.select import FarthestPointSample\n",
    "from wizard.io import read_xyz, dump_xyz\n",
    "import numpy as np\n",
    "import matplotlib.pyplot as plt\n",
    "from sklearn.decomposition import PCA\n",
    "\n",
    "atoms = read_xyz('train.xyz')\n",
    "calc = NEP('nep.txt')\n",
    "des = np.array([np.mean(calc.get_property('descriptor', i), axis=0) for i in atoms])\n",
    "sampler = FarthestPointSample(min_distance=0.01)\n",
    "selected_i = sampler.select(des, [])\n",
    "for i in selected_i:\n",
    "    dump_xyz('selected_train.xyz', atoms[i])\n",
    "\n",
    "reducer = PCA(n_components=2)\n",
    "reducer.fit(des)\n",
    "proj = reducer.transform(des)\n",
    "plt.scatter(proj[:,0], proj[:,1], label='all data')\n",
    "selected_proj = reducer.transform(np.array([des[i] for i in selected_i]))\n",
    "plt.scatter(selected_proj[:,0], selected_proj[:,1], label='selected data')\n",
    "plt.legend()\n",
    "plt.axis('off')\n",
    "plt.savefig('select.png')"
   ]
  }
 ],
 "metadata": {
  "language_info": {
   "name": "python"
  }
 },
 "nbformat": 4,
 "nbformat_minor": 2
}
