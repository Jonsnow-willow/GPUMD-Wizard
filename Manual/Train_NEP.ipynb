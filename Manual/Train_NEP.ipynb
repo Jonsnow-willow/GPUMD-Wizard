{
 "cells": [
  {
   "cell_type": "markdown",
   "id": "e55d2c8c",
   "metadata": {},
   "source": [
    "## Train a model"
   ]
  },
  {
   "cell_type": "code",
   "execution_count": null,
   "id": "ab701594",
   "metadata": {},
   "outputs": [],
   "source": [
    "from train_nep.config import get_nep_config\n",
    "from train_nep.dataset import StructureDataset, collate_fn\n",
    "from train_nep.model import NEP\n",
    "from train_nep.alchemy import Alchemy\n",
    "from torch.utils.data import DataLoader\n",
    "from wizard.io import read_xyz\n",
    "\n",
    "para = get_nep_config()\n",
    "frames = read_xyz(\"../Repository/PbTe/train.xyz\")\n",
    "\n",
    "train_dataset = StructureDataset(frames=frames, para=para)\n",
    "train_loader = DataLoader(train_dataset, batch_size=5, shuffle=True, collate_fn=collate_fn)\n",
    "\n",
    "model = NEP(para)\n",
    "alchemy = Alchemy(\n",
    "    model=model,\n",
    "    training_set=train_loader,\n",
    "    save_path=\"../Repository/PbTe/nep_model.pt\"\n",
    ")\n",
    "alchemy.fit(epochs=100)"
   ]
  },
  {
   "cell_type": "markdown",
   "id": "52f29062",
   "metadata": {},
   "source": [
    "## Extract Model"
   ]
  },
  {
   "cell_type": "code",
   "execution_count": null,
   "id": "0f00a822",
   "metadata": {},
   "outputs": [],
   "source": [
    "from train_nep.model import NEP\n",
    "\n",
    "nep = NEP.from_checkpoint(\"../Repository/PbTe/nep_model.pt\")\n",
    "nep.print_model_info()\n",
    "#nep.save_to_nep_format(\"../Repository/PbTe/nep_torch.txt\")"
   ]
  },
  {
   "cell_type": "markdown",
   "id": "78a6b53c",
   "metadata": {},
   "source": [
    "## Compare Model"
   ]
  },
  {
   "cell_type": "code",
   "execution_count": null,
   "id": "0ea675db",
   "metadata": {},
   "outputs": [],
   "source": [
    "from wizard.io import read_xyz, plot_force_results\n",
    "from calorine.calculators import CPUNEP\n",
    "from train_nep.interface import NEPCalculator\n",
    "%matplotlib inline\n",
    "\n",
    "frames = read_xyz(\"../Repository/PbTe/train.xyz\")\n",
    "calc1 = CPUNEP(\"../Repository/PbTe/nep_torch.txt\")\n",
    "calc2 = NEPCalculator(\"../Repository/PbTe/nep_model.pt\")\n",
    "calcs = [calc1, calc2]\n",
    "plot_force_results(frames, calcs, ['nep_cpu', 'torch'])"
   ]
  },
  {
   "cell_type": "code",
   "execution_count": null,
   "id": "838b365e",
   "metadata": {},
   "outputs": [],
   "source": []
  }
 ],
 "metadata": {
  "kernelspec": {
   "display_name": "Python 3",
   "language": "python",
   "name": "python3"
  },
  "language_info": {
   "codemirror_mode": {
    "name": "ipython",
    "version": 3
   },
   "file_extension": ".py",
   "mimetype": "text/x-python",
   "name": "python",
   "nbconvert_exporter": "python",
   "pygments_lexer": "ipython3",
   "version": "3.13.2"
  }
 },
 "nbformat": 4,
 "nbformat_minor": 5
}
