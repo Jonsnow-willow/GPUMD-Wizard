{
 "cells": [
  {
   "cell_type": "markdown",
   "id": "e55d2c8c",
   "metadata": {},
   "source": [
    "## Train a model"
   ]
  },
  {
   "cell_type": "code",
   "execution_count": null,
   "id": "ab701594",
   "metadata": {},
   "outputs": [],
   "source": [
    "from train_nep.config import get_nep_config\n",
    "from train_nep.dataset import StructureDataset, collate_fn\n",
    "from train_nep.model import NEP\n",
    "from train_nep.trainer import Trainer\n",
    "from torch.utils.data import DataLoader\n",
    "from wizard.io import read_xyz\n",
    "\n",
    "para = get_nep_config()\n",
    "frames = read_xyz(\"../Repository/PbTe/train.xyz\")\n",
    "\n",
    "train_dataset = StructureDataset(frames=frames, para=para)\n",
    "train_loader = DataLoader(train_dataset, batch_size=5, shuffle=True, collate_fn=collate_fn)\n",
    "\n",
    "model = NEP(para)\n",
    "training = Trainer(\n",
    "    model=model,\n",
    "    training_set=train_loader,\n",
    "    save_path=\"../Repository/PbTe/nep_model.pt\",\n",
    "    use_wandb= True\n",
    ")\n",
    "training.fit(epochs=500)"
   ]
  },
  {
   "cell_type": "code",
   "execution_count": null,
   "id": "4147d5ab",
   "metadata": {},
   "outputs": [],
   "source": [
    "from train_nep.config import get_nep_config\n",
    "from train_nep.dataset import StructureDataset, collate_fn\n",
    "from train_nep.model import NEP\n",
    "from train_nep.snes import SNES\n",
    "from torch.utils.data import DataLoader\n",
    "from wizard.io import read_xyz\n",
    "\n",
    "para = get_nep_config()\n",
    "frames = read_xyz(\"../Repository/PbTe/train.xyz\")\n",
    "\n",
    "train_dataset = StructureDataset(frames=frames, para=para)\n",
    "train_loader = DataLoader(train_dataset, batch_size=5, shuffle=True, collate_fn=collate_fn)\n",
    "\n",
    "model = NEP(para)\n",
    "training = SNES(\n",
    "    model=model,\n",
    "    training_set=train_loader,\n",
    "    save_path=\"../Repository/PbTe/nep_snes.pt\",\n",
    "    population_size=40\n",
    ")\n",
    "\n",
    "training.fit(generations=500)"
   ]
  },
  {
   "cell_type": "markdown",
   "id": "78a6b53c",
   "metadata": {},
   "source": [
    "## Compare Model"
   ]
  },
  {
   "cell_type": "code",
   "execution_count": null,
   "id": "0ea675db",
   "metadata": {},
   "outputs": [],
   "source": [
    "from wizard.io import read_xyz, plot_force_results\n",
    "from train_nep.interface import NEPCalculator\n",
    "%matplotlib inline\n",
    "\n",
    "frames = read_xyz(\"../Repository/PbTe/train.xyz\")\n",
    "calc1 = NEPCalculator(\"../Repository/PbTe/nep_snes.pt\")\n",
    "calc2 = NEPCalculator(\"../Repository/PbTe/nep_model.pt\")\n",
    "calcs = [calc1, calc2]\n",
    "plot_force_results(frames, calcs, ['SNES', 'Adam'])"
   ]
  },
  {
   "cell_type": "markdown",
   "id": "6f2d0b1a",
   "metadata": {},
   "source": [
    "## Extract Model"
   ]
  },
  {
   "cell_type": "code",
   "execution_count": null,
   "id": "838b365e",
   "metadata": {},
   "outputs": [],
   "source": [
    "from train_nep.model import NEP\n",
    "\n",
    "nep = NEP.from_checkpoint(\"../Repository/PbTe/nep_model.pt\")\n",
    "nep.print_model_info()\n",
    "nep.save_to_nep_format(\"../Repository/PbTe/nep_torch.txt\")"
   ]
  }
 ],
 "metadata": {
  "kernelspec": {
   "display_name": "Python 3",
   "language": "python",
   "name": "python3"
  },
  "language_info": {
   "codemirror_mode": {
    "name": "ipython",
    "version": 3
   },
   "file_extension": ".py",
   "mimetype": "text/x-python",
   "name": "python",
   "nbconvert_exporter": "python",
   "pygments_lexer": "ipython3",
   "version": "3.13.2"
  }
 },
 "nbformat": 4,
 "nbformat_minor": 5
}
