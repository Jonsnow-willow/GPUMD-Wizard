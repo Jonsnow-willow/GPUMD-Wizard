{
 "cells": [
  {
   "cell_type": "markdown",
   "metadata": {},
   "source": [
    "step 1. select potential"
   ]
  },
  {
   "cell_type": "code",
   "execution_count": null,
   "metadata": {},
   "outputs": [],
   "source": [
    "from calorine.calculators import CPUNEP\n",
    "\n",
    "nep_path = '../Repository/UNEP_v1/nep.txt'\n",
    "calc = NEP('../Repository/UNEP_v1/nep.txt')\n",
    "symbols = ['Al' , 'Au' , 'Cr' , 'Cu' , 'Mg' , 'Mo' , 'Ni' , 'Pb' , 'Pd' , 'Pt' , 'Ta' , 'Ti' , 'V' , 'W' , 'Zr']"
   ]
  },
  {
   "cell_type": "markdown",
   "metadata": {},
   "source": [
    "step 2. deform and perturbation"
   ]
  },
  {
   "cell_type": "code",
   "execution_count": null,
   "metadata": {},
   "outputs": [],
   "source": [
    "from wizard.frames import MultiMol\n",
    "from wizard.atoms import SymbolInfo\n",
    "from wizard.io import relax\n",
    "from itertools import combinations\n",
    "\n",
    "binary = [''.join(comb) for comb in combinations(symbols, 2)]\n",
    "formulars = symbols + binary\n",
    "\n",
    "symbol_infos = []\n",
    "for formular in formulars:\n",
    "    symbol_infos.append(SymbolInfo(formular, 'bcc', 3))\n",
    "    symbol_infos.append(SymbolInfo(formular, 'fcc', 3))\n",
    "    symbol_infos.append(SymbolInfo(formular, 'hcp', 3,5))\n",
    "\n",
    "frames = []\n",
    "for symbol_info in symbol_infos:\n",
    "    atoms = symbol_info.create_bulk_atoms((2, 2, 2))\n",
    "    atoms.calc = calc\n",
    "    relax(atoms)\n",
    "    frames.append(atoms)\n",
    "\n",
    "deform_scale = np.arange(0.95, 1.06, 0.05)\n",
    "strain_ratio = 0.04\n",
    "max_displacement = 0.4\n",
    "\n",
    "deform = MultiMol(frames).deform(deform_scale)\n",
    "deform_scale = MultiMol(deform).random_strain(strain_ratio)\n",
    "deform_pertu = MultiMol(deform).random_displacement(max_displacement)\n",
    "\n",
    "frames = deform + deform_scale + deform_pertu\n",
    "MultiMol(frames).dump('deform.xyz')"
   ]
  },
  {
   "cell_type": "markdown",
   "metadata": {},
   "source": [
    "step 3. material properties"
   ]
  },
  {
   "cell_type": "code",
   "execution_count": null,
   "metadata": {},
   "outputs": [],
   "source": [
    "from wizard.calculator import MaterialCalculator\n",
    "from wizard.atoms import SymbolInfo\n",
    "from itertools import combinations\n",
    "\n",
    "binary = [''.join(comb) for comb in combinations(symbols, 2)]\n",
    "formulars = symbols + binary\n",
    "\n",
    "symbol_infos = []\n",
    "for formular in formulars:\n",
    "   symbol_infos.append(SymbolInfo(formular, 'bcc', 3))\n",
    "   symbol_infos.append(SymbolInfo(formular, 'fcc', 3))\n",
    "   symbol_infos.append(SymbolInfo(formular, 'hcp', 3,5))\n",
    "\n",
    "nths = [1,2,3,4,5]\n",
    "sia_vectors = [(1/2,1/2,1/2),(1,0,0),(1,1,0)]\n",
    "millers = [(1,1,0),(0,0,1),(1,1,1),(1,1,2)]\n",
    "\n",
    "for symbol_info in symbol_infos:\n",
    "   atoms = symbol_info.create_bulk_atoms()\n",
    "   material_calculator = MaterialCalculator(atoms, calc, symbol_info)\n",
    "   material_calculator.formation_energy_vacancy()\n",
    "   material_calculator.migration_energy_vacancy()\n",
    "\n",
    "for symbol_info in symbol_infos:\n",
    "   atoms = symbol_info.create_bulk_atoms((3,4,5))\n",
    "   for nth in nths:\n",
    "      material_calculator.formation_energy_divacancies(nth)\n",
    "\n",
    "for symbol_info in symbol_infos:\n",
    "   atoms = symbol_info.create_bulk_atoms((3,4,5))\n",
    "   material_calculator = MaterialCalculator(atoms, calc, symbol_info)\n",
    "   for vector in sia_vectors:\n",
    "      material_calculator.formation_energy_sia(vector)\n",
    "\n",
    "for symbol_info in symbol_infos:\n",
    "   atoms = symbol_info.create_bulk_atoms((1,1,1))\n",
    "   material_calculator = MaterialCalculator(atoms, calc, symbol_info)\n",
    "   for miller in millers:\n",
    "      material_calculator.formation_energy_surface(miller)"
   ]
  },
  {
   "cell_type": "markdown",
   "metadata": {},
   "source": [
    "step 4. vacancies"
   ]
  },
  {
   "cell_type": "code",
   "execution_count": null,
   "metadata": {},
   "outputs": [],
   "source": [
    "from wizard.atoms import SymbolInfo, Morph\n",
    "from wizard.frames import MultiMol\n",
    "from itertools import combinations\n",
    "\n",
    "binary = [''.join(comb) for comb in combinations(symbols, 2)]\n",
    "formulars = symbols + binary\n",
    "\n",
    "symbol_infos = []\n",
    "for formular in formulars:\n",
    "   symbol_infos.append(SymbolInfo(formular, 'bcc', 3))\n",
    "   symbol_infos.append(SymbolInfo(formular, 'fcc', 3))\n",
    "   symbol_infos.append(SymbolInfo(formular, 'hcp', 3,5))\n",
    "\n",
    "frames = []\n",
    "for symbol_info in symbol_infos:\n",
    "    for n in range(3, 10, 3):\n",
    "        if symbol_info.structure == 'bcc':\n",
    "            atoms = symbol_info.create_bulk_atoms()\n",
    "        elif symbol_info.structure == 'fcc':\n",
    "            atoms = symbol_info.create_bulk_atoms((2, 2, 2))\n",
    "        elif symbol_info.structure == 'hcp':\n",
    "            atoms = symbol_info.create_bulk_atoms((3, 3, 2)) \n",
    "        Morph(atoms).create_vacancies(n)\n",
    "        frames.append(atoms)\n",
    "MultiMol(frames).dump('vacancies.xyz')"
   ]
  },
  {
   "cell_type": "markdown",
   "metadata": {},
   "source": [
    "step 5. npt sample"
   ]
  },
  {
   "cell_type": "code",
   "execution_count": null,
   "metadata": {},
   "outputs": [],
   "source": [
    "from wizard.atoms import SymbolInfo, Morph\n",
    "from wizard.io import read_xyz\n",
    "from wizard.frames import MultiMol\n",
    "from itertools import combinations\n",
    "\n",
    "binary = [''.join(comb) for comb in combinations(symbols, 2)]\n",
    "formulars = symbols + binary\n",
    "\n",
    "symbol_infos = []\n",
    "for formular in formulars:\n",
    "   symbol_infos.append(SymbolInfo(formular, 'bcc', 3))\n",
    "   symbol_infos.append(SymbolInfo(formular, 'fcc', 3))\n",
    "   symbol_infos.append(SymbolInfo(formular, 'hcp', 3,5))\n",
    "\n",
    "Temp_Struts = []\n",
    "temperatures = [50, 300, 800, 1300, 1700, 2300, 3000, 4000, 5000]\n",
    "for symbol_info in symbol_infos:\n",
    "    for temperature in temperatures:\n",
    "        atoms = symbol_info.create_bulk_atoms((3,3,3))\n",
    "        dirname = f'{symbol_info.formula}/{symbol_info.structure}/{temperature}K/relax'\n",
    "        run_in=['potential nep.txt',\n",
    "                f'velocity {temperature}',   \n",
    "                'time_step 1',\n",
    "                f'ensemble npt_mttk temp {temperature} {temperature} iso 0 0',\n",
    "                'dump_thermo 10000',\n",
    "                'dump_exyz 200000',\n",
    "                'dump_restart 1000000',\n",
    "                'run 1000000']\n",
    "        Morph(atoms).gpumd(dirname=dirname, nep_path= nep_path, run_in=run_in)\n",
    "        Temp_Struts += read_xyz(dirname + '/dump.xyz')\n",
    "\n",
    "deform_scale = np.arange(0.95, 1.06, 0.05)\n",
    "strain_ratio = 0.05\n",
    "Temp_Struts_Deform = MultiMol(Temp_Struts).deform(deform_scale)\n",
    "Temp_Struts_Strain = MultiMol(Temp_Struts).random_strain(strain_ratio)\n",
    "\n",
    "Temp_Struts = Temp_Struts_Deform + Temp_Struts_Strain\n",
    "MultiMol(Temp_Struts).dump('Temp_Struts.xyz')"
   ]
  },
  {
   "cell_type": "markdown",
   "metadata": {},
   "source": [
    "step 6. utc sample"
   ]
  },
  {
   "cell_type": "code",
   "execution_count": null,
   "metadata": {},
   "outputs": [],
   "source": [
    "from wizard.atoms import SymbolInfo, Morph\n",
    "from wizard.io import read_restart, read_xyz\n",
    "from wizard.frames import MultiMol\n",
    "from itertools import combinations\n",
    "\n",
    "binary = [''.join(comb) for comb in combinations(symbols, 2)]\n",
    "formulars = symbols + binary\n",
    "\n",
    "symbol_infos = []\n",
    "for formular in formulars:\n",
    "   symbol_infos.append(SymbolInfo(formular, 'bcc', 3))\n",
    "   symbol_infos.append(SymbolInfo(formular, 'fcc', 3))\n",
    "   symbol_infos.append(SymbolInfo(formular, 'hcp', 3,5))\n",
    "\n",
    "temperature = 300 #K\n",
    "strain_rate = 2e8\n",
    "dt = 1e-15 #fs\n",
    "utc_tensile = []\n",
    "for symbol_info in symbol_infos:\n",
    "    atoms = read_restart(f'{symbol_info.symbol}/{symbol_info.structure}/{temperature}K/relax/restart.xyz')\n",
    "    dirname = f'{symbol_info.symbol}/{symbol_info.structure}/{temperature}K/utc_tensile'\n",
    "    length = atoms.cell[2, 2]\n",
    "    strain = strain_rate * dt * length\n",
    "    run_in = ['potential ../../../../nep.txt', \n",
    "              'velocity 300', \n",
    "              'time_step 1',\n",
    "              f'ensemble npt_scr {temperature} {temperature} 100 0 0 0 100 100 100 1000',\n",
    "              f'deform {strain} 0 0 1', \n",
    "              'dump_thermo 1000', \n",
    "              'dump_exyz 200000', \n",
    "              'dump_restart 10000',\n",
    "              'run 2000000']\n",
    "    Morph(atoms).gpumd(dirname=dirname, nep_path= nep_path, run_in=run_in)\n",
    "    utc_tensile += read_xyz(dirname + '/dump.xyz') \n",
    "\n",
    "MultiMol(utc_tensile).dump('utc_tensile.xyz')"
   ]
  },
  {
   "cell_type": "markdown",
   "metadata": {},
   "source": [
    "step 7. ttc sample"
   ]
  },
  {
   "cell_type": "code",
   "execution_count": null,
   "metadata": {},
   "outputs": [],
   "source": [
    "from wizard.atoms import SymbolInfo, Morph\n",
    "from wizard.io import read_restart, read_xyz\n",
    "from wizard.frames import MultiMol\n",
    "from itertools import combinations\n",
    "\n",
    "binary = [''.join(comb) for comb in combinations(symbols, 2)]\n",
    "formulars = symbols + binary\n",
    "\n",
    "symbol_infos = []\n",
    "for formular in formulars:\n",
    "   symbol_infos.append(SymbolInfo(formular, 'bcc', 3))\n",
    "   symbol_infos.append(SymbolInfo(formular, 'fcc', 3))\n",
    "   symbol_infos.append(SymbolInfo(formular, 'hcp', 3,5))\n",
    "\n",
    "temperature = 300 #K\n",
    "strain_rate = 2e8\n",
    "dt = 1e-15 #fs\n",
    "ttc_tensile = []\n",
    "for symbol_info in symbol_infos:\n",
    "    atoms = read_restart(f'{symbol_info.symbol}/{symbol_info.structure}/{temperature}K/relax/restart.xyz')\n",
    "    dirname = f'{symbol_info.symbol}/{symbol_info.structure}/{temperature}K/ttc_tensile'\n",
    "    length = atoms.cell[2, 2]\n",
    "    strain = strain_rate * dt * length\n",
    "    run_in = ['potential ../../../../nep.txt', \n",
    "              'velocity 300', \n",
    "              'time_step 1',\n",
    "              f'ensemble npt_scr {temperature} {temperature} 100 0 0 0 100 100 100 1000',\n",
    "              f'deform {strain} 1 1 1', \n",
    "              'dump_thermo 1000', \n",
    "              'dump_exyz 200000', \n",
    "              'dump_restart 10000',\n",
    "              'run 2000000']\n",
    "    Morph(atoms).gpumd(dirname=dirname, nep_path= nep_path, run_in=run_in)\n",
    "    ttc_tensile += read_xyz(dirname + '/dump.xyz') \n",
    "\n",
    "MultiMol(ttc_tensile).dump('ttc_tensile.xyz')"
   ]
  }
 ],
 "metadata": {
  "kernelspec": {
   "display_name": "base",
   "language": "python",
   "name": "python3"
  },
  "language_info": {
   "codemirror_mode": {
    "name": "ipython",
    "version": 3
   },
   "file_extension": ".py",
   "mimetype": "text/x-python",
   "name": "python",
   "nbconvert_exporter": "python",
   "pygments_lexer": "ipython3",
   "version": "3.9.13"
  }
 },
 "nbformat": 4,
 "nbformat_minor": 2
}
