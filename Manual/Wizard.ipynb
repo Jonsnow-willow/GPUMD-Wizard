{
 "cells": [
  {
   "cell_type": "markdown",
   "metadata": {},
   "source": [
    "## Generating Atoms Models\n",
    "\n",
    "Importing SymbolInfo Class."
   ]
  },
  {
   "cell_type": "code",
   "execution_count": null,
   "metadata": {},
   "outputs": [],
   "source": [
    "from wizard.atoms import SymbolInfo"
   ]
  },
  {
   "cell_type": "markdown",
   "metadata": {},
   "source": [
    "Creating bulk atoms."
   ]
  },
  {
   "cell_type": "code",
   "execution_count": null,
   "metadata": {},
   "outputs": [],
   "source": [
    "atoms = SymbolInfo('W', 'bcc', 3.185).create_bulk_atoms()"
   ]
  },
  {
   "cell_type": "markdown",
   "metadata": {},
   "source": [
    "Importing Morph Class."
   ]
  },
  {
   "cell_type": "code",
   "execution_count": null,
   "metadata": {},
   "outputs": [],
   "source": [
    "from wizard.atoms import Morph"
   ]
  },
  {
   "cell_type": "markdown",
   "metadata": {},
   "source": [
    "Creating HEA model."
   ]
  },
  {
   "cell_type": "code",
   "execution_count": null,
   "metadata": {},
   "outputs": [],
   "source": [
    "Morph(atoms).prop_element_set(['Mo','Nb','Ta','V','W'])"
   ]
  },
  {
   "cell_type": "markdown",
   "metadata": {},
   "source": [
    "Creating mono-vacancy model."
   ]
  },
  {
   "cell_type": "code",
   "execution_count": null,
   "metadata": {},
   "outputs": [],
   "source": [
    "Morph(atoms).create_vacancy()"
   ]
  },
  {
   "cell_type": "markdown",
   "metadata": {},
   "source": [
    "Creating di-vacancies model."
   ]
  },
  {
   "cell_type": "code",
   "execution_count": null,
   "metadata": {},
   "outputs": [],
   "source": [
    "Morph(atoms).create_divacancies()"
   ]
  },
  {
   "cell_type": "markdown",
   "metadata": {},
   "source": []
  },
  {
   "cell_type": "markdown",
   "metadata": {},
   "source": [
    "Creating self-interstitial-atom model."
   ]
  },
  {
   "cell_type": "code",
   "execution_count": null,
   "metadata": {},
   "outputs": [],
   "source": [
    "Morph(atoms).create_self_interstitial_atom([1, 1, 1])"
   ]
  },
  {
   "cell_type": "markdown",
   "metadata": {},
   "source": [
    "Creating interstitial-atom model."
   ]
  },
  {
   "cell_type": "code",
   "execution_count": null,
   "metadata": {},
   "outputs": [],
   "source": [
    "from ase import Atom\n",
    "atom = Atom('W', position=(0, 0, 0))\n",
    "atoms.append(atom)"
   ]
  },
  {
   "cell_type": "markdown",
   "metadata": {},
   "source": [
    "Creating Frenkel defects model."
   ]
  },
  {
   "cell_type": "code",
   "execution_count": null,
   "metadata": {},
   "outputs": [],
   "source": [
    "Morph(atoms).create_fks(10)"
   ]
  },
  {
   "cell_type": "markdown",
   "metadata": {},
   "source": [
    "## Molecular dynamics\n",
    "\n",
    "Run molecular dynamics (MD) simulations using [GPUMD](https://github.com/brucefan1983/GPUMD)."
   ]
  },
  {
   "cell_type": "code",
   "execution_count": null,
   "metadata": {},
   "outputs": [],
   "source": [
    "import os\n",
    "os.environ['CUDA_VISIBLE_DEVICES'] = '0'"
   ]
  },
  {
   "cell_type": "markdown",
   "metadata": {},
   "source": [
    "Running molecular dynamics simulations."
   ]
  },
  {
   "cell_type": "code",
   "execution_count": null,
   "metadata": {},
   "outputs": [],
   "source": [
    "run_in = ['potential ../nep.txt', \n",
    "          'velocity 300', \n",
    "          'time_step 1', \n",
    "          'ensemble npt_scr 300 300 200 0 500 2000',\n",
    "          'dump_thermo 1000', \n",
    "          'dump_restart 30000', \n",
    "          'dump_exyz 10000',\n",
    "          'run 30000']\n",
    "Morph(atoms).gpumd('relax', run_in)"
   ]
  },
  {
   "cell_type": "markdown",
   "metadata": {},
   "source": [
    "Deforming the simulation box."
   ]
  },
  {
   "cell_type": "code",
   "execution_count": null,
   "metadata": {},
   "outputs": [],
   "source": [
    "run_in = ['potential ../nep.txt', \n",
    "          'velocity 300', \n",
    "          'time_step 1',\n",
    "          'ensemble npt_scr 300 300 100 0 0 0 100 100 100 1000',\n",
    "          'run 30000', \n",
    "          'ensemble npt_scr 300 300 100 0 0 0 100 100 100 1000',\n",
    "          'deform 0.00001 0 0 1', \n",
    "          'dump_thermo 1000', \n",
    "          'dump_exyz 1000', \n",
    "          'dump_restart 10000',\n",
    "          'run 1000000']\n",
    "Morph(atoms).gpumd('deform', run_in)"
   ]
  },
  {
   "cell_type": "markdown",
   "metadata": {},
   "source": [
    "Simulating the process of a crystallization."
   ]
  },
  {
   "cell_type": "code",
   "execution_count": null,
   "metadata": {},
   "outputs": [],
   "source": [
    "run_in = ['potential ../nep.txt', \n",
    "          'velocity 2000', \n",
    "          'time_step 1', \n",
    "          'ensemble npt_scr 2000 2000 200 0 500 2000', \n",
    "          'dump_thermo 1000', \n",
    "          'dump_xyz 10000', \n",
    "          'dump_restart 10000', \n",
    "          'run 100000',\n",
    "          'ensemble npt_scr 2000 5000 200 0 500 2000',\n",
    "          'dump_thermo 1000', \n",
    "          'dump_xyz 100000', \n",
    "          'dump_restart 10000', \n",
    "          'run 10000000',\n",
    "          'ensemble npt_scr 4500 4500 200 0 500 2000',\n",
    "          'dump_thermo 1000', \n",
    "          'dump_xyz 10000', \n",
    "          'dump_restart 10000', \n",
    "          'run 100000',\n",
    "          'ensemble npt_scr 4500 1500 200 0 500 2000',\n",
    "          'dump_thermo 1000', \n",
    "          'dump_xyz 100000', \n",
    "          'dump_restart 10000', \n",
    "          'run 10000000']\n",
    "Morph(atoms).gpumd('crystallization', run_in)"
   ]
  },
  {
   "cell_type": "markdown",
   "metadata": {},
   "source": [
    "Calculating the Melting point using two-phase coexistence method"
   ]
  },
  {
   "cell_type": "code",
   "execution_count": null,
   "metadata": {},
   "outputs": [],
   "source": [
    "from wizard.io import read_xyz\n",
    "\n",
    "group = []\n",
    "for atom in atoms:\n",
    "    if atom.position[2] < atoms.cell[2, 2] / 2:\n",
    "        group.append(0)\n",
    "    else:\n",
    "        group.append(1)\n",
    "atoms.info['group'] = group\n",
    "\n",
    "run_in_1 = ['potential ../../nep.txt', \n",
    "            'velocity 3000', \n",
    "            'time_step 1', \n",
    "            'ensemble npt_ber 3000 3000 200 0 500 2000', \n",
    "            'dump_exyz 10000', \n",
    "            'dump_thermo 1000',\n",
    "            'run 30000',\n",
    "            'ensemble heat_lan 3500 200 500 0 1',\n",
    "            'dump_exyz 10000',\n",
    "            'dump_thermo 1000',\n",
    "            'dump_restart 10000',\n",
    "            'run 1000000']\n",
    "\n",
    "#Morph(atoms).gpumd('melting_point/relax', run_in_1)\n",
    "\n",
    "for Tm in range(3400, 3701, 100):\n",
    "    atoms = read_xyz('melting_point/relax/dump.xyz')[-1]\n",
    "    run_in = ['potential ../../nep.txt', \n",
    "             f'velocity {Tm}', \n",
    "              'time_step 1', \n",
    "             f'ensemble npt_ber {Tm} {Tm} 200 0 500 2000', \n",
    "              'dump_exyz 10000', \n",
    "              'dump_thermo 1000',\n",
    "              'run 30000']\n",
    "    Morph(atoms).gpumd(f'melting_point/{Tm}', run_in)"
   ]
  },
  {
   "cell_type": "markdown",
   "metadata": {},
   "source": [
    "Simulation the radiation damage"
   ]
  },
  {
   "cell_type": "code",
   "execution_count": null,
   "metadata": {},
   "outputs": [],
   "source": [
    "from wizard.io import read_xyz, dump_xyz\n",
    "import numpy as np\n",
    "\n",
    "group = []\n",
    "thickness = 3.185 * 3\n",
    "for atom in atoms:\n",
    "    if atom.position[0] < thickness or atom.position[1] < thickness or atom.position[2] < thickness:\n",
    "        group.append(0)\n",
    "    elif atom.position[0] >= atoms.cell[0, 0] - thickness or atom.position[1] >= atoms.cell[1, 1] - thickness or atom.position[2] >= atoms.cell[2, 2] - thickness:\n",
    "        group.append(1)\n",
    "    else:\n",
    "        group.append(2)\n",
    "        \n",
    "atoms.info['group'] = group\n",
    "dump_xyz('test.xyz',atoms)\n",
    "\n",
    "run_in_1 = ['potential ../../nep.txt',\n",
    "            'velocity 300', \n",
    "            'time_step 1', \n",
    "            'ensemble npt_scr 300 300 200 0 500 2000', \n",
    "            'dump_thermo 1000', \n",
    "            'dump_restart 30000', \n",
    "            'run 30000']\n",
    "\n",
    "run_in_2 = ['potential ../../nep.txt', \n",
    "            'velocity 300', \n",
    "            'time_step 0', \n",
    "            'ensemble nve',\n",
    "            'dump_exyz 1', \n",
    "            'run 1',\n",
    "            'time_step 1 0.015', \n",
    "            'ensemble heat_nhc 300 200 0 0 1',\n",
    "            'electron_stop ../../electron_stopping_fit.txt',\n",
    "            'compute 0 200 10 temperature', \n",
    "            'dump_restart 10000', \n",
    "            'dump_exyz 2000 1 1',\n",
    "            'run 70000']\n",
    "\n",
    "pka_energy = 10 #eV\n",
    "angle = np.array([1, 3, 5]) \n",
    "index = 100\n",
    "\n",
    "Morph(atoms).gpumd('radiation/relax', run_in_1)\n",
    "atoms = read_xyz('radiation/relax/restart.xyz')[-1]\n",
    "Morph(atoms).set_pka(pka_energy, angle, index)\n",
    "Morph(atoms).gpumd('radiation/cascade', run_in_2)"
   ]
  },
  {
   "cell_type": "markdown",
   "metadata": {},
   "source": [
    "## Calculating Material Properties\n",
    "\n",
    "Using the calculator from [PyNEP](https://github.com/bigd4/PyNEP)."
   ]
  },
  {
   "cell_type": "code",
   "execution_count": null,
   "metadata": {},
   "outputs": [],
   "source": [
    "from wizard.calculator import MaterialCalculator\n",
    "from pynep.calculate import NEP\n",
    "\n",
    "calc = NEP('../Repository/Wnep2/nep.txt')\n",
    "material_calculator = MaterialCalculator(atoms, calc, 'W', 'bcc')"
   ]
  },
  {
   "cell_type": "markdown",
   "metadata": {},
   "source": [
    "Calculate the lattice constants of the material, write them along with the atom energy to a file, and return the atom energy and cell lengths."
   ]
  },
  {
   "cell_type": "code",
   "execution_count": null,
   "metadata": {},
   "outputs": [],
   "source": [
    "material_calculator.lattice_constant()"
   ]
  },
  {
   "cell_type": "markdown",
   "metadata": {},
   "source": [
    "Calculate the elastic constants of the material, write them to a file, and return the bulk modulus."
   ]
  },
  {
   "cell_type": "code",
   "execution_count": null,
   "metadata": {},
   "outputs": [],
   "source": [
    "material_calculator.elastic_constant()"
   ]
  },
  {
   "cell_type": "markdown",
   "metadata": {},
   "source": [
    "Generate the equation of state (EOS) curve for the material, save the curve as a PNG image, and write the volume and energy data to a file."
   ]
  },
  {
   "cell_type": "code",
   "execution_count": null,
   "metadata": {},
   "outputs": [],
   "source": [
    "material_calculator.eos_curve()"
   ]
  },
  {
   "cell_type": "markdown",
   "metadata": {},
   "source": [
    "Calculate and plot the phonon dispersion band structure for the material."
   ]
  },
  {
   "cell_type": "code",
   "execution_count": null,
   "metadata": {},
   "outputs": [],
   "source": [
    "material_calculator.phonon_dispersion()"
   ]
  },
  {
   "cell_type": "markdown",
   "metadata": {},
   "source": [
    "Calculate the formation energy of a vacancy in the material, write it to a file, and return the formation energy."
   ]
  },
  {
   "cell_type": "code",
   "execution_count": null,
   "metadata": {},
   "outputs": [],
   "source": [
    "material_calculator.formation_energy_vacancy()"
   ]
  },
  {
   "cell_type": "markdown",
   "metadata": {},
   "source": [
    "Calculate the migration energy of a vacancy in the material by simulating the transition from the initial to the final state."
   ]
  },
  {
   "cell_type": "code",
   "execution_count": null,
   "metadata": {},
   "outputs": [],
   "source": [
    "material_calculator.migration_energy_vacancy()"
   ]
  },
  {
   "cell_type": "markdown",
   "metadata": {},
   "source": [
    "Calculate the formation energy of divacancies in the material, write it to a file, and return the formation energy."
   ]
  },
  {
   "cell_type": "code",
   "execution_count": null,
   "metadata": {},
   "outputs": [],
   "source": [
    "nth = 1\n",
    "material_calculator.formation_energy_divacancies(nth)"
   ]
  },
  {
   "cell_type": "markdown",
   "metadata": {},
   "source": [
    "Calculate the formation energy of a self-interstitial atom (SIA) in the material, write it to a file, and return the formation energy."
   ]
  },
  {
   "cell_type": "code",
   "execution_count": null,
   "metadata": {},
   "outputs": [],
   "source": [
    "vector = (1,1,1)\n",
    "material_calculator.formation_energy_sia(vector)"
   ]
  },
  {
   "cell_type": "markdown",
   "metadata": {},
   "source": [
    "Calculate the formation energy of an interstitial atom in the material, write it to a file, and return the formation energy."
   ]
  },
  {
   "cell_type": "code",
   "execution_count": null,
   "metadata": {},
   "outputs": [],
   "source": [
    "material_calculator.formation_energy_interstitial_atom('W',[0,0,1/2],'octahedral')"
   ]
  },
  {
   "cell_type": "markdown",
   "metadata": {},
   "source": [
    "Calculate the formation energy of a surface in the material, write it to a file, and return the formation energy in meV."
   ]
  },
  {
   "cell_type": "code",
   "execution_count": null,
   "metadata": {},
   "outputs": [],
   "source": [
    "miller = (0, 0, 1)\n",
    "material_calculator.formation_energy_surface(miller)"
   ]
  },
  {
   "cell_type": "markdown",
   "metadata": {},
   "source": [
    "Calculate the energy of a stacking fault in the material by simulating the shift of atomic layers, write the maximum energy to a file, plot the energy as a function of shift distance, and return the energy values."
   ]
  },
  {
   "cell_type": "code",
   "execution_count": null,
   "metadata": {},
   "outputs": [],
   "source": [
    "material_calculator.stacking_fault(a = (1,1,-1), b = (1,-1,0), miller = [1,1,2], distance = 3.185/2)"
   ]
  },
  {
   "cell_type": "markdown",
   "metadata": {},
   "source": [
    "Simulate the movement of a screw dislocation dipole in a pure BCC metal, calculate the energy at each step, save the energy profile as a PNG image, and return the energy values."
   ]
  },
  {
   "cell_type": "code",
   "execution_count": null,
   "metadata": {},
   "outputs": [],
   "source": [
    "material_calculator.pure_bcc_metal_screw_dipole_move()"
   ]
  },
  {
   "cell_type": "markdown",
   "metadata": {},
   "source": [
    "Simulate the movement of a single screw dislocation in a pure BCC metal, calculate the energy at each step, save the energy profile as a PNG image, and return the energy values."
   ]
  },
  {
   "cell_type": "code",
   "execution_count": null,
   "metadata": {},
   "outputs": [],
   "source": [
    "material_calculator.pure_bcc_metal_screw_one_move()"
   ]
  }
 ],
 "metadata": {
  "kernelspec": {
   "display_name": "base",
   "language": "python",
   "name": "python3"
  },
  "language_info": {
   "codemirror_mode": {
    "name": "ipython",
    "version": 3
   },
   "file_extension": ".py",
   "mimetype": "text/x-python",
   "name": "python",
   "nbconvert_exporter": "python",
   "pygments_lexer": "ipython3",
   "version": "3.9.13"
  }
 },
 "nbformat": 4,
 "nbformat_minor": 2
}
