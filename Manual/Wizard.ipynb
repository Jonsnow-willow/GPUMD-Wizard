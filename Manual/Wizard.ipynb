{
 "cells": [
  {
   "cell_type": "markdown",
   "metadata": {},
   "source": [
    "## Generating Atoms Models\n",
    "\n",
    "Importing SymbolInfo Class."
   ]
  },
  {
   "cell_type": "code",
   "execution_count": null,
   "metadata": {},
   "outputs": [],
   "source": [
    "from wizard.atoms import SymbolInfo"
   ]
  },
  {
   "cell_type": "markdown",
   "metadata": {},
   "source": [
    "Creating bulk atoms."
   ]
  },
  {
   "cell_type": "code",
   "execution_count": null,
   "metadata": {},
   "outputs": [],
   "source": [
    "atoms = SymbolInfo('W', 'bcc', 3).create_bulk_atoms()"
   ]
  },
  {
   "cell_type": "markdown",
   "metadata": {},
   "source": [
    "Importing Morph Class."
   ]
  },
  {
   "cell_type": "code",
   "execution_count": null,
   "metadata": {},
   "outputs": [],
   "source": [
    "from wizard.atoms import Morph"
   ]
  },
  {
   "cell_type": "markdown",
   "metadata": {},
   "source": [
    "Creating HEA model."
   ]
  },
  {
   "cell_type": "code",
   "execution_count": null,
   "metadata": {},
   "outputs": [],
   "source": [
    "Morph(atoms).prop_element_set(['Mo','Nb','Ta','V','W'])"
   ]
  },
  {
   "cell_type": "markdown",
   "metadata": {},
   "source": [
    "Creating mono-vacancy model."
   ]
  },
  {
   "cell_type": "code",
   "execution_count": null,
   "metadata": {},
   "outputs": [],
   "source": [
    "Morph(atoms).create_vacancy()"
   ]
  },
  {
   "cell_type": "markdown",
   "metadata": {},
   "source": [
    "Creating di-vacancies model."
   ]
  },
  {
   "cell_type": "code",
   "execution_count": null,
   "metadata": {},
   "outputs": [],
   "source": [
    "Morph(atoms).create_divacancies()"
   ]
  },
  {
   "cell_type": "markdown",
   "metadata": {},
   "source": [
    "Creating self-interstitial-atom model."
   ]
  },
  {
   "cell_type": "code",
   "execution_count": null,
   "metadata": {},
   "outputs": [],
   "source": [
    "Morph(atoms).create_self_interstitial_atom([1, 1, 1])"
   ]
  },
  {
   "cell_type": "markdown",
   "metadata": {},
   "source": [
    "Creating interstitial-atom model."
   ]
  },
  {
   "cell_type": "code",
   "execution_count": null,
   "metadata": {},
   "outputs": [],
   "source": [
    "from ase import Atom\n",
    "atom = Atom('W', position=(0, 0, 0))\n",
    "atoms.append(atom)"
   ]
  },
  {
   "cell_type": "markdown",
   "metadata": {},
   "source": [
    "Creating Frenkel defects model."
   ]
  },
  {
   "cell_type": "code",
   "execution_count": null,
   "metadata": {},
   "outputs": [],
   "source": [
    "Morph(atoms).create_fks(10)"
   ]
  },
  {
   "cell_type": "markdown",
   "metadata": {},
   "source": [
    "## Molecular dynamics\n",
    "\n",
    "Run molecular dynamics (MD) simulations using [GPUMD](https://github.com/brucefan1983/GPUMD)."
   ]
  },
  {
   "cell_type": "code",
   "execution_count": null,
   "metadata": {},
   "outputs": [],
   "source": [
    "import os\n",
    "os.environ['CUDA_VISIBLE_DEVICES'] = '0'"
   ]
  },
  {
   "cell_type": "markdown",
   "metadata": {},
   "source": [
    "Running molecular dynamics simulations."
   ]
  },
  {
   "cell_type": "code",
   "execution_count": null,
   "metadata": {},
   "outputs": [],
   "source": [
    "run_in = ['potential ../nep.txt', \n",
    "          'velocity 300', \n",
    "          'time_step 1', \n",
    "          'ensemble npt_scr 300 300 200 0 500 2000',\n",
    "          'dump_thermo 1000', \n",
    "          'dump_restart 30000', \n",
    "          'dump_exyz 10000',\n",
    "          'run 30000']\n",
    "Morph(atoms).gpumd('relax', run_in)"
   ]
  },
  {
   "cell_type": "markdown",
   "metadata": {},
   "source": [
    "Deforming the simulation box."
   ]
  },
  {
   "cell_type": "code",
   "execution_count": null,
   "metadata": {},
   "outputs": [],
   "source": [
    "run_in = ['potential ../nep.txt', \n",
    "          'velocity 300', \n",
    "          'time_step 1',\n",
    "          'ensemble npt_scr 300 300 100 0 0 0 100 100 100 1000',\n",
    "          'run 30000', \n",
    "          'ensemble npt_scr 300 300 100 0 0 0 100 100 100 1000',\n",
    "          'deform 0.00001 0 0 1', \n",
    "          'dump_thermo 1000', \n",
    "          'dump_exyz 1000', \n",
    "          'dump_restart 10000',\n",
    "          'run 1000000']\n",
    "Morph(atoms).gpumd('deform', run_in)"
   ]
  },
  {
   "cell_type": "markdown",
   "metadata": {},
   "source": [
    "Simulating the process of a crystallization."
   ]
  },
  {
   "cell_type": "code",
   "execution_count": null,
   "metadata": {},
   "outputs": [],
   "source": [
    "run_in = ['potential ../nep.txt', \n",
    "          'velocity 2000', \n",
    "          'time_step 1', \n",
    "          'ensemble npt_scr 2000 2000 200 0 500 2000', \n",
    "          'dump_thermo 1000', \n",
    "          'dump_xyz 10000', \n",
    "          'dump_restart 10000', \n",
    "          'run 100000',\n",
    "          'ensemble npt_scr 2000 5000 200 0 500 2000',\n",
    "          'dump_thermo 1000', \n",
    "          'dump_xyz 100000', \n",
    "          'dump_restart 10000', \n",
    "          'run 10000000',\n",
    "          'ensemble npt_scr 4500 4500 200 0 500 2000',\n",
    "          'dump_thermo 1000', \n",
    "          'dump_xyz 10000', \n",
    "          'dump_restart 10000', \n",
    "          'run 100000',\n",
    "          'ensemble npt_scr 4500 1500 200 0 500 2000',\n",
    "          'dump_thermo 1000', \n",
    "          'dump_xyz 100000', \n",
    "          'dump_restart 10000', \n",
    "          'run 10000000']\n",
    "Morph(atoms).gpumd('crystallization', run_in)"
   ]
  },
  {
   "cell_type": "markdown",
   "metadata": {},
   "source": [
    "Calculating the Melting point using two-phase coexistence method."
   ]
  },
  {
   "cell_type": "code",
   "execution_count": null,
   "metadata": {},
   "outputs": [],
   "source": [
    "from wizard.io import read_xyz\n",
    "\n",
    "group = []\n",
    "for atom in atoms:\n",
    "    if atom.position[2] < atoms.cell[2, 2] / 2:\n",
    "        group.append(0)\n",
    "    else:\n",
    "        group.append(1)\n",
    "atoms.info['group'] = group\n",
    "\n",
    "run_in_1 = ['potential ../../nep.txt', \n",
    "            'velocity 3000', \n",
    "            'time_step 1', \n",
    "            'ensemble npt_ber 3000 3000 200 0 500 2000', \n",
    "            'dump_exyz 10000', \n",
    "            'dump_thermo 1000',\n",
    "            'run 30000',\n",
    "            'ensemble heat_lan 3500 200 500 0 1',\n",
    "            'dump_exyz 10000',\n",
    "            'dump_thermo 1000',\n",
    "            'dump_restart 10000',\n",
    "            'run 1000000']\n",
    "\n",
    "Morph(atoms).gpumd('melting_point/relax', run_in_1)\n",
    "\n",
    "for Tm in range(3400, 3701, 100):\n",
    "    atoms = read_xyz('melting_point/relax/dump.xyz')[-1]\n",
    "    run_in = ['potential ../../nep.txt', \n",
    "             f'velocity {Tm}', \n",
    "              'time_step 1', \n",
    "             f'ensemble npt_ber {Tm} {Tm} 200 0 500 2000', \n",
    "              'dump_exyz 10000', \n",
    "              'dump_thermo 1000',\n",
    "              'run 30000']\n",
    "    Morph(atoms).gpumd(f'melting_point/{Tm}', run_in)"
   ]
  },
  {
   "cell_type": "markdown",
   "metadata": {},
   "source": [
    "Simulating the radiation damage."
   ]
  },
  {
   "cell_type": "code",
   "execution_count": null,
   "metadata": {},
   "outputs": [],
   "source": [
    "from wizard.io import read_xyz\n",
    "import numpy as np\n",
    "\n",
    "group = []\n",
    "thickness = 3.185 * 3\n",
    "for atom in atoms:\n",
    "    if atom.position[0] < thickness or atom.position[1] < thickness or atom.position[2] < thickness:\n",
    "        group.append(0)\n",
    "    elif atom.position[0] >= atoms.cell[0, 0] - thickness or atom.position[1] >= atoms.cell[1, 1] - thickness or atom.position[2] >= atoms.cell[2, 2] - thickness:\n",
    "        group.append(1)\n",
    "    else:\n",
    "        group.append(2)\n",
    "atoms.info['group'] = group\n",
    "\n",
    "run_in_1 = ['potential ../../nep.txt',\n",
    "            'velocity 300', \n",
    "            'time_step 1', \n",
    "            'ensemble npt_scr 300 300 200 0 500 2000', \n",
    "            'dump_thermo 1000', \n",
    "            'dump_restart 30000', \n",
    "            'run 30000']\n",
    "\n",
    "run_in_2 = ['potential ../../nep.txt', \n",
    "            'velocity 300', \n",
    "            'time_step 0', \n",
    "            'ensemble nve',\n",
    "            'dump_exyz 1', \n",
    "            'run 1',\n",
    "            'time_step 1 0.015', \n",
    "            'ensemble heat_nhc 300 200 0 0 1',\n",
    "            'electron_stop ../../electron_stopping_fit.txt',\n",
    "            'compute 0 200 10 temperature', \n",
    "            'dump_restart 10000', \n",
    "            'dump_exyz 2000 1 1',\n",
    "            'run 70000']\n",
    "\n",
    "pka_energy = 10 #eV\n",
    "direction = np.array([1, 3, 5]) \n",
    "index = 100\n",
    "\n",
    "Morph(atoms).gpumd('radiation/relax', run_in_1)\n",
    "atoms = read_xyz('radiation/relax/restart.xyz')[-1]\n",
    "Morph(atoms).set_pka(pka_energy, direction, index)\n",
    "Morph(atoms).gpumd('radiation/cascade', run_in_2)"
   ]
  },
  {
   "cell_type": "markdown",
   "metadata": {},
   "source": [
    "Simulating the overlapping cascades."
   ]
  },
  {
   "cell_type": "code",
   "execution_count": null,
   "metadata": {},
   "outputs": [],
   "source": [
    "from wizard.io import read_restart\n",
    "import numpy as np\n",
    "import random\n",
    "\n",
    "run_in_1 = ['potential ../../nep.txt',\n",
    "            'velocity 300', \n",
    "            'time_step 1', \n",
    "            'ensemble npt_scr 300 300 200 0 500 2000', \n",
    "            'dump_thermo 1000', \n",
    "            'dump_restart 10000', \n",
    "            'run 30000']\n",
    "\n",
    "run_in_2 = ['potential ../../nep.txt',\n",
    "            'velocity 300', \n",
    "            'time_step 1', \n",
    "            'ensemble npt_scr 300 300 200 0 500 2000', \n",
    "            'dump_thermo 1000', \n",
    "            'dump_restart 10000', \n",
    "            'run 10000']\n",
    "\n",
    "run_in_3 = ['potential ../../nep.txt', \n",
    "            'velocity 300', \n",
    "            'time_step 0', \n",
    "            'ensemble nve',\n",
    "            'dump_exyz 1', \n",
    "            'run 1',\n",
    "            'time_step 1 0.015', \n",
    "            'ensemble heat_nhc 300 200 0 0 1',\n",
    "            'electron_stop ../../electron_stopping_fit.txt',\n",
    "            'compute 0 200 10 temperature', \n",
    "            'dump_restart 10000', \n",
    "            'dump_exyz 2000 1 1',\n",
    "            'run 40000']\n",
    "\n",
    "pka_energy = 10 #eV\n",
    "cascade_times = 2000\n",
    "directions = [np.array([np.sin(np.random.uniform(0, np.pi)) * np.cos(np.random.uniform(0, 2 * np.pi)),\n",
    "                        np.sin(np.random.uniform(0, np.pi)) * np.sin(np.random.uniform(0, 2 * np.pi)),\n",
    "                        np.cos(np.random.uniform(0, np.pi))]) for _ in range(cascade_times)]\n",
    "\n",
    "indexs = [random.randint(0, len(atoms) - 1) for _ in range(cascade_times)]\n",
    "\n",
    "## First time\n",
    "direction = directions[0]\n",
    "index = indexs[0]\n",
    "\n",
    "center = atoms.cell.diagonal() / 2\n",
    "diff = center - atoms[index].position\n",
    "for atom in atoms:\n",
    "    atom.position += diff\n",
    "\n",
    "for atom in atoms:\n",
    "    atom.position %= atoms.cell.diagonal()\n",
    "\n",
    "group = []\n",
    "thickness = 3.185 * 3\n",
    "for atom in atoms:\n",
    "    if atom.position[0] < thickness or atom.position[1] < thickness or atom.position[2] < thickness:\n",
    "        group.append(0)\n",
    "    elif atom.position[0] >= atoms.cell[0, 0] - thickness or atom.position[1] >= atoms.cell[1, 1] - thickness or atom.position[2] >= atoms.cell[2, 2] - thickness:\n",
    "        group.append(1)\n",
    "    else:\n",
    "        group.append(2)\n",
    "atoms.info['group'] = group\n",
    "\n",
    "Morph(atoms).gpumd('radiation0/relax', run_in_1)\n",
    "atoms = read_restart('radiation0/relax/restart.xyz')\n",
    "Morph(atoms).set_pka(pka_energy, direction, index)\n",
    "Morph(atoms).gpumd('radiation0/cascade', run_in_3)\n",
    "\n",
    "## Loops\n",
    "for i in range(1, cascade_times):\n",
    "    direction = directions[i]\n",
    "    index = indexs[i]\n",
    "    atoms = read_restart(f'radiation{i-1}/cascade/restart.xyz')\n",
    "\n",
    "    center = atoms.cell.diagonal() / 2\n",
    "    diff = center - atoms[index].position\n",
    "    for atom in atoms:\n",
    "        atom.position += diff\n",
    "\n",
    "    for atom in atoms:\n",
    "        atom.position %= atoms.cell.diagonal()\n",
    "\n",
    "    group = []\n",
    "    thickness = 3.185 * 3\n",
    "    for atom in atoms:\n",
    "        if atom.position[0] < thickness or atom.position[1] < thickness or atom.position[2] < thickness:\n",
    "            group.append(0)\n",
    "        elif atom.position[0] >= atoms.cell[0, 0] - thickness or atom.position[1] >= atoms.cell[1, 1] - thickness or atom.position[2] >= atoms.cell[2, 2] - thickness:\n",
    "            group.append(1)\n",
    "        else:\n",
    "            group.append(2)\n",
    "    atoms.info['group'] = group\n",
    "\n",
    "    Morph(atoms).gpumd(f'radiation{i}/relax', run_in_2)\n",
    "    atoms = read_restart(f'radiation{i}/relax/restart.xyz')\n",
    "    Morph(atoms).set_pka(pka_energy, direction, index)\n",
    "    Morph(atoms).gpumd(f'radiation{i}/cascade', run_in_3)"
   ]
  },
  {
   "cell_type": "markdown",
   "metadata": {},
   "source": [
    "Calculate the threshold displacement energy surface"
   ]
  },
  {
   "cell_type": "code",
   "execution_count": null,
   "metadata": {},
   "outputs": [],
   "source": [
    "import numpy as np\n",
    "\n",
    "group = []\n",
    "thickness = 3.185\n",
    "for atom in atoms:\n",
    "    if atom.position[0] < thickness or atom.position[1] < thickness or atom.position[2] < thickness:\n",
    "        group.append(0)\n",
    "    elif atom.position[0] >= atoms.cell[0, 0] - thickness or atom.position[1] >= atoms.cell[1, 1] - thickness or atom.position[2] >= atoms.cell[2, 2] - thickness:\n",
    "        group.append(1)\n",
    "    else:\n",
    "        group.append(2)\n",
    "        \n",
    "atoms.info['group'] = group\n",
    "\n",
    "theta_range = np.arange(0, 46, 5) \n",
    "phi_range = np.arange(0, 46, 5) \n",
    "\n",
    "directions = []\n",
    "\n",
    "for theta in theta_range:\n",
    "    for phi in phi_range:\n",
    "        theta_rad = np.deg2rad(theta)\n",
    "        phi_rad = np.deg2rad(phi)\n",
    "        x = np.sin(theta_rad) * np.cos(phi_rad)\n",
    "        y = np.sin(theta_rad) * np.sin(phi_rad)\n",
    "        z = np.cos(theta_rad)\n",
    "        directions.append(np.array([x, y, z]))\n",
    "\n",
    "run_in = ['potential ../../nep.txt', \n",
    "          'velocity 1', \n",
    "          'time_step 0', \n",
    "          'ensemble nve',\n",
    "          'dump_exyz 1', \n",
    "          'run 1',\n",
    "          'time_step 1 0.015', \n",
    "          'ensemble heat_nhc 10 200 0 0 1',\n",
    "          'electron_stop ../../electron_stopping_fit.txt',\n",
    "          'dump_exyz 500 1 1',\n",
    "          'run 5000']\n",
    "\n",
    "atoms.info['velocities'] = np.zeros((len(atoms), 3))\n",
    "\n",
    "for direction in directions:\n",
    "    for pka_energy in range(10, 101, 10):\n",
    "        index = 8420\n",
    "        Morph(atoms).set_pka(pka_energy, direction, index)\n",
    "        Morph(atoms).gpumd(f'{direction}/{pka_energy}', run_in)"
   ]
  },
  {
   "cell_type": "markdown",
   "metadata": {},
   "source": [
    "## Calculating Material Properties\n",
    "\n",
    "Using the calculator from [PyNEP](https://github.com/bigd4/PyNEP)."
   ]
  },
  {
   "cell_type": "code",
   "execution_count": null,
   "metadata": {},
   "outputs": [],
   "source": [
    "from wizard.calculator import MaterialCalculator\n",
    "from pynep.calculate import NEP\n",
    "\n",
    "calc = NEP('train/nep.txt')\n",
    "material_calculator = MaterialCalculator(atoms, calc, 'Nb', 'bcc')"
   ]
  },
  {
   "cell_type": "markdown",
   "metadata": {},
   "source": [
    "Calculate the lattice constants of the material, write them along with the atom energy to a file, and return the atom energy and cell lengths."
   ]
  },
  {
   "cell_type": "code",
   "execution_count": null,
   "metadata": {},
   "outputs": [],
   "source": [
    "material_calculator.lattice_constant()"
   ]
  },
  {
   "cell_type": "markdown",
   "metadata": {},
   "source": [
    "Calculate the elastic constants of the material, write them to a file, and return the bulk modulus."
   ]
  },
  {
   "cell_type": "code",
   "execution_count": null,
   "metadata": {},
   "outputs": [],
   "source": [
    "material_calculator.elastic_constant()"
   ]
  },
  {
   "cell_type": "markdown",
   "metadata": {},
   "source": [
    "Generate the equation of state (EOS) curve for the material, save the curve as a PNG image, and write the volume and energy data to a file."
   ]
  },
  {
   "cell_type": "code",
   "execution_count": null,
   "metadata": {},
   "outputs": [],
   "source": [
    "material_calculator.eos_curve()"
   ]
  },
  {
   "cell_type": "markdown",
   "metadata": {},
   "source": [
    "Calculate and plot the phonon dispersion band structure for the material."
   ]
  },
  {
   "cell_type": "code",
   "execution_count": null,
   "metadata": {},
   "outputs": [],
   "source": [
    "material_calculator.phonon_dispersion()"
   ]
  },
  {
   "cell_type": "markdown",
   "metadata": {},
   "source": [
    "Calculate the formation energy of a vacancy in the material, write it to a file, and return the formation energy."
   ]
  },
  {
   "cell_type": "code",
   "execution_count": null,
   "metadata": {},
   "outputs": [],
   "source": [
    "material_calculator.formation_energy_vacancy(relax_params={'fmax':0.001})"
   ]
  },
  {
   "cell_type": "markdown",
   "metadata": {},
   "source": [
    "Calculate the migration energy of a vacancy in the material by simulating the transition from the initial to the final state."
   ]
  },
  {
   "cell_type": "code",
   "execution_count": null,
   "metadata": {},
   "outputs": [],
   "source": [
    "material_calculator.migration_energy_vacancy()"
   ]
  },
  {
   "cell_type": "markdown",
   "metadata": {},
   "source": [
    "Calculate the formation energy of divacancies in the material, write it to a file, and return the formation energy."
   ]
  },
  {
   "cell_type": "code",
   "execution_count": null,
   "metadata": {},
   "outputs": [],
   "source": [
    "nth = 1\n",
    "material_calculator.formation_energy_divacancies(nth, relax_params={'fmax':0.001})"
   ]
  },
  {
   "cell_type": "markdown",
   "metadata": {},
   "source": [
    "Calculate the formation energy of a self-interstitial atom (SIA) in the material, write it to a file, and return the formation energy."
   ]
  },
  {
   "cell_type": "code",
   "execution_count": null,
   "metadata": {},
   "outputs": [],
   "source": [
    "vector = (1,1,1)\n",
    "material_calculator.formation_energy_sia(vector)"
   ]
  },
  {
   "cell_type": "markdown",
   "metadata": {},
   "source": [
    "Calculate the formation energy of an interstitial atom in the material, write it to a file, and return the formation energy."
   ]
  },
  {
   "cell_type": "code",
   "execution_count": null,
   "metadata": {},
   "outputs": [],
   "source": [
    "material_calculator.formation_energy_interstitial_atom('W',[0,0,1/2],'octahedral')"
   ]
  },
  {
   "cell_type": "markdown",
   "metadata": {},
   "source": [
    "Calculate the formation energy of a surface in the material, write it to a file, and return the formation energy in meV."
   ]
  },
  {
   "cell_type": "code",
   "execution_count": null,
   "metadata": {},
   "outputs": [],
   "source": [
    "miller = (0, 0, 1)\n",
    "material_calculator.formation_energy_surface(miller)"
   ]
  },
  {
   "cell_type": "markdown",
   "metadata": {},
   "source": [
    "Calculate the energy of a stacking fault in the material by simulating the shift of atomic layers, write the maximum energy to a file, plot the energy as a function of shift distance, and return the energy values."
   ]
  },
  {
   "cell_type": "code",
   "execution_count": null,
   "metadata": {},
   "outputs": [],
   "source": [
    "material_calculator.stacking_fault(a = (1,1,-1), b = (1,-1,0), miller = [1,1,2], distance = 3.185/2)"
   ]
  },
  {
   "cell_type": "markdown",
   "metadata": {},
   "source": [
    "Simulate the movement of a screw dislocation dipole in a pure BCC metal, calculate the energy at each step, save the energy profile as a PNG image, and return the energy values."
   ]
  },
  {
   "cell_type": "code",
   "execution_count": null,
   "metadata": {},
   "outputs": [],
   "source": [
    "material_calculator.pure_bcc_metal_screw_dipole_move()"
   ]
  },
  {
   "cell_type": "markdown",
   "metadata": {},
   "source": [
    "Simulate the movement of a single screw dislocation in a pure BCC metal, calculate the energy at each step, save the energy profile as a PNG image, and return the energy values."
   ]
  },
  {
   "cell_type": "code",
   "execution_count": null,
   "metadata": {},
   "outputs": [],
   "source": [
    "material_calculator.pure_bcc_metal_screw_one_move()"
   ]
  },
  {
   "cell_type": "markdown",
   "metadata": {},
   "source": [
    "## Tools"
   ]
  },
  {
   "cell_type": "markdown",
   "metadata": {},
   "source": [
    "Reading atomic configuraion and caculating the potential energy and forces using NEP. The results are then plotted and the Root Mean Square Error (RMSE) is computed."
   ]
  },
  {
   "cell_type": "code",
   "execution_count": null,
   "metadata": {},
   "outputs": [],
   "source": [
    "from wizard.io import read_xyz, plot_e, plot_f\n",
    "from pynep.calculate import NEP\n",
    "import numpy as np\n",
    "\n",
    "frames = read_xyz('../HEA-Jesper/train/train.xyz') \n",
    "print(len(frames))\n",
    "calc = NEP('train/nep.txt')\n",
    "ed, en, fd, fn = [], [], [], []\n",
    "for atoms in frames:\n",
    "    atoms.calc = calc\n",
    "    en.append(atoms.get_potential_energy() / len(atoms))\n",
    "    ed.append(atoms.info['energy'] / len(atoms))\n",
    "    fn.append(atoms.get_forces())\n",
    "    fd.append(atoms.info['forces'])\n",
    "ed = np.array(ed)\n",
    "en = np.array(en)\n",
    "fd = np.concatenate(fd)\n",
    "fn = np.concatenate(fn)\n",
    "plot_e(ed, en)\n",
    "plot_f(fd, fn)\n",
    "e_rmse = np.sqrt(np.mean((ed-en)**2)) \n",
    "f_rmse = np.sqrt(np.mean((fd-fn)**2))\n",
    "print(e_rmse)\n",
    "print(f_rmse)"
   ]
  },
  {
   "cell_type": "code",
   "execution_count": null,
   "metadata": {},
   "outputs": [],
   "source": [
    "from wizard.io import read_xyz, plot_e, plot_f\n",
    "from pynep.calculate import NEP\n",
    "import numpy as np\n",
    "\n",
    "frames = read_xyz('../HEA-Jesper/train/train.xyz') \n",
    "print(len(frames))\n",
    "calc = NEP('../HEA-Jesper/train/nep.txt')\n",
    "ed, en, fd, fn = [], [], [], []\n",
    "for atoms in frames:\n",
    "    atoms.calc = calc\n",
    "    en.append(atoms.get_potential_energy() / len(atoms))\n",
    "    ed.append(atoms.info['energy'] / len(atoms))\n",
    "    fn.append(atoms.get_forces())\n",
    "    fd.append(atoms.info['forces'])\n",
    "ed = np.array(ed)\n",
    "en = np.array(en)\n",
    "fd = np.concatenate(fd)\n",
    "fn = np.concatenate(fn)\n",
    "plot_e(ed, en)\n",
    "plot_f(fd, fn)\n",
    "e_rmse = np.sqrt(np.mean((ed-en)**2)) \n",
    "f_rmse = np.sqrt(np.mean((fd-fn)**2))\n",
    "print(e_rmse)\n",
    "print(f_rmse)"
   ]
  },
  {
   "cell_type": "markdown",
   "metadata": {},
   "source": [
    "## Generating Train Set"
   ]
  },
  {
   "cell_type": "markdown",
   "metadata": {},
   "source": [
    "Creating Atom Models with Different Crystal Structures."
   ]
  },
  {
   "cell_type": "code",
   "execution_count": 1,
   "metadata": {},
   "outputs": [],
   "source": [
    "from wizard.atoms import SymbolInfo, Morph\n",
    "import numpy as np\n",
    "\n",
    "train_set = []\n",
    "SymbolInfos = [\n",
    "   SymbolInfo('WMo', 'bcc', 3.32),\n",
    "]"
   ]
  },
  {
   "cell_type": "markdown",
   "metadata": {},
   "source": [
    "Generating and Saving Deformed Atom Models with Random Strain and Displacement."
   ]
  },
  {
   "cell_type": "code",
   "execution_count": null,
   "metadata": {},
   "outputs": [],
   "source": [
    "from wizard.generator import Generator\n",
    "\n",
    "frames = []\n",
    "for SymbolInfo in SymbolInfos:\n",
    "    atoms = SymbolInfo.create_bulk_atoms((2, 2, 2))\n",
    "    frames.append(atoms)\n",
    "\n",
    "deform_scale = np.arange(0.95, 1.06, 0.05)\n",
    "strain_ratio = 0.04\n",
    "max_displacement = 0.4\n",
    "\n",
    "init_1 = Generator(frames).deform(deform_scale)\n",
    "init_2 = Generator(init_1).random_strain(strain_ratio)\n",
    "init_3 = Generator(init_1).random_displacement(max_displacement)\n",
    "\n",
    "init = init_1 + init_2 + init_3"
   ]
  },
  {
   "cell_type": "markdown",
   "metadata": {},
   "source": [
    "Generating Atom Models with Various Types of Defects"
   ]
  },
  {
   "cell_type": "code",
   "execution_count": null,
   "metadata": {},
   "outputs": [],
   "source": [
    "from ase import Atoms\n",
    "\n",
    "dimmers = []\n",
    "distances = [1 + i * 0.5 for i in range(10)]\n",
    "for symbol_info in SymbolInfos:\n",
    "    symbol1 = symbol_info.symbols[0]\n",
    "    symbol2 = symbol_info.symbols[-1]\n",
    "    for distance in distances:\n",
    "        dimmer = Atoms([symbol1, symbol2], positions=[(0, 0, 0), (0, 0, distance)])\n",
    "        dimmers.append(dimmer)"
   ]
  },
  {
   "cell_type": "code",
   "execution_count": null,
   "metadata": {},
   "outputs": [],
   "source": [
    "mono_vacancy = []\n",
    "for symbol_info in SymbolInfos:\n",
    "    atoms = symbol_info.create_bulk_atoms((3, 4, 5))\n",
    "    Morph(atoms).create_vacancy()\n",
    "    mono_vacancy.append(atoms)"
   ]
  },
  {
   "cell_type": "code",
   "execution_count": null,
   "metadata": {},
   "outputs": [],
   "source": [
    "nths = [1,2,3,4,5]\n",
    "di_vacancies = []\n",
    "for symbol_info in SymbolInfos:\n",
    "    for nth in nths:\n",
    "        atoms = symbol_info.create_bulk_atoms((3, 4, 5)) \n",
    "        Morph(atoms).create_divacancies(nth)\n",
    "        di_vacancies.append(atoms)"
   ]
  },
  {
   "cell_type": "code",
   "execution_count": null,
   "metadata": {},
   "outputs": [],
   "source": [
    "vacancies = []\n",
    "for symbol_info in SymbolInfos:\n",
    "    for n in range(3, 10, 3):\n",
    "        atoms = symbol_info.create_bulk_atoms((3, 4, 5)) \n",
    "        Morph(atoms).create_vacancies(n)\n",
    "        vacancies.append(atoms)"
   ]
  },
  {
   "cell_type": "code",
   "execution_count": null,
   "metadata": {},
   "outputs": [],
   "source": [
    "sia = []\n",
    "vectors = [(1,1,1),(1,0,0),(1,1,0)]\n",
    "for symbol_info in SymbolInfos:\n",
    "    for vector in vectors:\n",
    "        atoms = symbol_info.create_bulk_atoms((3,4,5)) \n",
    "        Morph(atoms).create_self_interstitial_atom(vector)\n",
    "        sia.append(atoms)"
   ]
  },
  {
   "cell_type": "code",
   "execution_count": null,
   "metadata": {},
   "outputs": [],
   "source": [
    "vectors = [(1,1,1),(1,0,0),(1,1,0)]\n",
    "nths = [1,2,3,4,5]\n",
    "di_sias = []\n",
    "for symbol_info in SymbolInfos:\n",
    "    for vector1 in vectors:\n",
    "        for vector2 in vectors:\n",
    "            for nth in nths:\n",
    "                atoms = symbol_info.create_bulk_atoms((3,4,5))\n",
    "                Morph(atoms).create_di_self_interstitial_atoms(vector1=vector1, vector2=vector2, nth=nth)\n",
    "                di_sias.append(atoms)"
   ]
  },
  {
   "cell_type": "code",
   "execution_count": null,
   "metadata": {},
   "outputs": [],
   "source": [
    "fks = []\n",
    "for symbol_info in SymbolInfos:\n",
    "    atoms = symbol_info.create_bulk_atoms((3,4,5))\n",
    "    Morph(atoms).create_fks(10)\n",
    "    fks.append(atoms)"
   ]
  },
  {
   "cell_type": "code",
   "execution_count": null,
   "metadata": {},
   "outputs": [],
   "source": [
    "from ase.build import surface\n",
    "\n",
    "millers = [(1,1,0),(0,0,1),(1,1,1),(1,1,2)]\n",
    "surf = []\n",
    "for symbol_info in SymbolInfos:\n",
    "    for miller in millers:\n",
    "        atoms = symbol_info.create_bulk_atoms()\n",
    "        slab = surface(atoms, miller, layers = 10, vacuum=10) *(2, 2, 1)\n",
    "        surf.append(slab)"
   ]
  },
  {
   "cell_type": "code",
   "execution_count": null,
   "metadata": {},
   "outputs": [],
   "source": []
  }
 ],
 "metadata": {
  "kernelspec": {
   "display_name": "base",
   "language": "python",
   "name": "python3"
  },
  "language_info": {
   "codemirror_mode": {
    "name": "ipython",
    "version": 3
   },
   "file_extension": ".py",
   "mimetype": "text/x-python",
   "name": "python",
   "nbconvert_exporter": "python",
   "pygments_lexer": "ipython3",
   "version": "3.9.13"
  }
 },
 "nbformat": 4,
 "nbformat_minor": 2
}
