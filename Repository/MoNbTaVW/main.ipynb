{
 "cells": [
  {
   "cell_type": "code",
   "execution_count": null,
   "metadata": {},
   "outputs": [],
   "source": [
    "from wizard.atoms import SymbolInfo\n",
    "from wizard.calculator import MaterialCalculator\n",
    "from calorine.calculators import CPUNEP\n",
    "\n",
    "def main():\n",
    "    symbol_infos = [\n",
    "    SymbolInfo('V',  'bcc', 2.997),\n",
    "    SymbolInfo('Nb', 'bcc', 3.308),\n",
    "    SymbolInfo('Mo', 'bcc', 3.163),\n",
    "    SymbolInfo('Ta', 'bcc', 3.321),\n",
    "    SymbolInfo('W',  'bcc', 3.185)\n",
    "    ]\n",
    "    calc = CPUNEP('train/nep.txt')\n",
    "    for symbol_info in symbol_infos:\n",
    "        atoms = symbol_info.create_bulk_atoms((1, 1, 1))\n",
    "        material_calculator = MaterialCalculator(atoms, calc, symbol_info)\n",
    "        material_calculator.lattice_constant()\n",
    "        material_calculator.elastic_constant()\n",
    "        material_calculator.eos_curve()\n",
    "        atoms = symbol_info.create_bulk_atoms()\n",
    "        material_calculator = MaterialCalculator(atoms, calc, symbol_info)\n",
    "        material_calculator.phonon_dispersion()\n",
    "        material_calculator.formation_energy_vacancy()\n",
    "        material_calculator.migration_energy_vacancy()\n",
    "    \n",
    "if __name__ == \"__main__\":\n",
    "    main()"
   ]
  },
  {
   "cell_type": "code",
   "execution_count": 8,
   "metadata": {},
   "outputs": [],
   "source": [
    "from wizard.atoms import SymbolInfo\n",
    "from wizard.calculator import MaterialCalculator\n",
    "from calorine.calculators import CPUNEP\n",
    "\n",
    "def main():\n",
    "    symbol_infos = [\n",
    "    SymbolInfo('VNbMoTaW',  'bcc', 3.195),\n",
    "    ]\n",
    "    calc = CPUNEP('train/nep.txt')\n",
    "    for symbol_info in symbol_infos:\n",
    "        atoms = symbol_info.create_bulk_atoms()\n",
    "        material_calculator = MaterialCalculator(atoms, calc, symbol_info)\n",
    "        material_calculator.lattice_constant()\n",
    "        material_calculator.elastic_constant(epsilon=0.1)\n",
    "        material_calculator.eos_curve()\n",
    "    \n",
    "if __name__ == \"__main__\":\n",
    "    main()"
   ]
  },
  {
   "cell_type": "code",
   "execution_count": null,
   "metadata": {},
   "outputs": [],
   "source": [
    "from wizard.atoms import Morph, SymbolInfo\n",
    "\n",
    "run_in = ['potential nep.txt', \n",
    "          'velocity 300', \n",
    "          'time_step 0', \n",
    "          'ensemble nve',\n",
    "          'dump_exyz 1', \n",
    "          'run 1',\n",
    "          'time_step 1', \n",
    "          'ensemble npt_mttk temp 300 300 iso 0 0', \n",
    "          'dump_exyz 5000',\n",
    "          'run 5000']\n",
    "for i in range(1000):\n",
    "    atoms = SymbolInfo('MoNbTaVW', 'bcc', 3.2).create_bulk_atoms((3,4,5))\n",
    "    Morph(atoms).create_random_interstitial(['Mo', 'Nb', 'Ta', 'V', 'W'])\n",
    "    Morph(atoms).gpumd(f'{i}',run_in=run_in)"
   ]
  }
 ],
 "metadata": {
  "kernelspec": {
   "display_name": "base",
   "language": "python",
   "name": "python3"
  },
  "language_info": {
   "codemirror_mode": {
    "name": "ipython",
    "version": 3
   },
   "file_extension": ".py",
   "mimetype": "text/x-python",
   "name": "python",
   "nbconvert_exporter": "python",
   "pygments_lexer": "ipython3",
   "version": "3.9.13"
  }
 },
 "nbformat": 4,
 "nbformat_minor": 2
}
